{
 "cells": [
  {
   "cell_type": "code",
   "execution_count": null,
   "metadata": {},
   "outputs": [],
   "source": []
  },
  {
   "cell_type": "markdown",
   "metadata": {},
   "source": [
    "# Prepare example data and model"
   ]
  },
  {
   "cell_type": "code",
   "execution_count": 3,
   "metadata": {},
   "outputs": [],
   "source": [
    "from pyspark.ml import Pipeline\n",
    "from pyspark.ml.classification import LogisticRegression\n",
    "from pyspark.ml.feature import HashingTF, Tokenizer\n",
    "from pyspark.ml.feature import SQLTransformer\n",
    "from pyspark.ml.feature import RFormula"
   ]
  },
  {
   "cell_type": "code",
   "execution_count": 22,
   "metadata": {},
   "outputs": [],
   "source": [
    "import pandas as pd\n",
    "pd.set_option('display.max_colwidth', 100)\n",
    "pd.set_option('display.max_rows', 500000)\n",
    "pd.set_option('display.max_colwidth', None)\n",
    "pd.set_option(\"display.max_columns\",5000)"
   ]
  },
  {
   "cell_type": "markdown",
   "metadata": {},
   "source": [
    "#### example data"
   ]
  },
  {
   "cell_type": "code",
   "execution_count": 4,
   "metadata": {},
   "outputs": [],
   "source": [
    "# create dataframe\n",
    "training = spark.createDataFrame([\n",
    "    (0,'y', \"a b c d e spark\", 1.0),\n",
    "    (1,'y', \"b d\", 0.0),\n",
    "    (2, None, \"spark f g h\", 1.0),\n",
    "    (3, 'n',\"hadoop mapreduce\", 0.0)\n",
    "], [\"id\",'category', \"text\", \"label\"])"
   ]
  },
  {
   "cell_type": "markdown",
   "metadata": {},
   "source": [
    "#### pipeline"
   ]
  },
  {
   "cell_type": "code",
   "execution_count": 5,
   "metadata": {},
   "outputs": [],
   "source": [
    "#process 'categor' column\n",
    "category_process=SQLTransformer(statement=\"\"\"select *, coalesce(category, 'unknown') category_fillNA \n",
    "                                            from __THIS__ \"\"\")"
   ]
  },
  {
   "cell_type": "code",
   "execution_count": 6,
   "metadata": {},
   "outputs": [],
   "source": [
    "#text_process: a pipeline , process text column\n",
    "tokenizer = Tokenizer(inputCol=\"text\", outputCol=\"words\")\n",
    "hashingTF = HashingTF(inputCol=tokenizer.getOutputCol(), outputCol=\"text_vector\",numFeatures=16)\n",
    "text_process=Pipeline(stages=[tokenizer, hashingTF])"
   ]
  },
  {
   "cell_type": "code",
   "execution_count": 7,
   "metadata": {},
   "outputs": [],
   "source": [
    "features_assemble=RFormula(formula=\"~category_fillNA+text_vector\",featuresCol='features',handleInvalid='keep')"
   ]
  },
  {
   "cell_type": "code",
   "execution_count": 8,
   "metadata": {},
   "outputs": [],
   "source": [
    "lr = LogisticRegression(maxIter=5, regParam=0.001)"
   ]
  },
  {
   "cell_type": "code",
   "execution_count": 9,
   "metadata": {},
   "outputs": [],
   "source": [
    "#put together into a pipeline\n",
    "pipeline = Pipeline(stages=[category_process, text_process,features_assemble, lr])"
   ]
  },
  {
   "cell_type": "markdown",
   "metadata": {},
   "source": [
    "#### create PipelineModel"
   ]
  },
  {
   "cell_type": "code",
   "execution_count": 10,
   "metadata": {},
   "outputs": [],
   "source": [
    "model = pipeline.fit(training)"
   ]
  },
  {
   "cell_type": "markdown",
   "metadata": {},
   "source": [
    "#### apply the model"
   ]
  },
  {
   "cell_type": "code",
   "execution_count": 24,
   "metadata": {},
   "outputs": [],
   "source": [
    "training_pred=model.transform(training)"
   ]
  },
  {
   "cell_type": "code",
   "execution_count": 25,
   "metadata": {},
   "outputs": [],
   "source": [
    "# Prepare test documents, which are unlabeled (id,category, text) tuples.\n",
    "test= spark.createDataFrame([\n",
    "    (4,'y', \"spark i j k\"),\n",
    "    (5,'n', \"l m n\"),\n",
    "], [\"id\",'category', \"text\"])\n",
    "\n",
    "# Make predictions on test documents and print columns of interest.\n",
    "prediction = model.transform(test)"
   ]
  },
  {
   "cell_type": "code",
   "execution_count": 26,
   "metadata": {},
   "outputs": [
    {
     "data": {
      "text/html": [
       "<div>\n",
       "<style scoped>\n",
       "    .dataframe tbody tr th:only-of-type {\n",
       "        vertical-align: middle;\n",
       "    }\n",
       "\n",
       "    .dataframe tbody tr th {\n",
       "        vertical-align: top;\n",
       "    }\n",
       "\n",
       "    .dataframe thead th {\n",
       "        text-align: right;\n",
       "    }\n",
       "</style>\n",
       "<table border=\"1\" class=\"dataframe\">\n",
       "  <thead>\n",
       "    <tr style=\"text-align: right;\">\n",
       "      <th></th>\n",
       "      <th>id</th>\n",
       "      <th>category</th>\n",
       "      <th>text</th>\n",
       "      <th>category_fillNA</th>\n",
       "      <th>words</th>\n",
       "      <th>text_vector</th>\n",
       "      <th>features</th>\n",
       "      <th>rawPrediction</th>\n",
       "      <th>probability</th>\n",
       "      <th>prediction</th>\n",
       "    </tr>\n",
       "  </thead>\n",
       "  <tbody>\n",
       "    <tr>\n",
       "      <th>0</th>\n",
       "      <td>4</td>\n",
       "      <td>y</td>\n",
       "      <td>spark i j k</td>\n",
       "      <td>y</td>\n",
       "      <td>[spark, i, j, k]</td>\n",
       "      <td>(1.0, 2.0, 0.0, 0.0, 0.0, 1.0, 0.0, 0.0, 0.0, 0.0, 0.0, 0.0, 0.0, 0.0, 0.0, 0.0)</td>\n",
       "      <td>(1.0, 0.0, 0.0, 1.0, 2.0, 0.0, 0.0, 0.0, 1.0, 0.0, 0.0, 0.0, 0.0, 0.0, 0.0, 0.0, 0.0, 0.0, 0.0)</td>\n",
       "      <td>[2.397351922197842, -2.397351922197842]</td>\n",
       "      <td>[0.9166251513201248, 0.0833748486798753]</td>\n",
       "      <td>0.0</td>\n",
       "    </tr>\n",
       "  </tbody>\n",
       "</table>\n",
       "</div>"
      ],
      "text/plain": [
       "   id category         text category_fillNA             words  \\\n",
       "0   4        y  spark i j k               y  [spark, i, j, k]   \n",
       "\n",
       "                                                                        text_vector  \\\n",
       "0  (1.0, 2.0, 0.0, 0.0, 0.0, 1.0, 0.0, 0.0, 0.0, 0.0, 0.0, 0.0, 0.0, 0.0, 0.0, 0.0)   \n",
       "\n",
       "                                                                                          features  \\\n",
       "0  (1.0, 0.0, 0.0, 1.0, 2.0, 0.0, 0.0, 0.0, 1.0, 0.0, 0.0, 0.0, 0.0, 0.0, 0.0, 0.0, 0.0, 0.0, 0.0)   \n",
       "\n",
       "                             rawPrediction  \\\n",
       "0  [2.397351922197842, -2.397351922197842]   \n",
       "\n",
       "                                probability  prediction  \n",
       "0  [0.9166251513201248, 0.0833748486798753]         0.0  "
      ]
     },
     "execution_count": 26,
     "metadata": {},
     "output_type": "execute_result"
    }
   ],
   "source": [
    "prediction.limit(1).toPandas()"
   ]
  },
  {
   "cell_type": "code",
   "execution_count": 12,
   "metadata": {},
   "outputs": [],
   "source": [
    "#%run /home/c07520/work/Users/c07520/customfunction/start.ipynb"
   ]
  },
  {
   "cell_type": "code",
   "execution_count": 15,
   "metadata": {},
   "outputs": [],
   "source": [
    "import sys\n",
    "sys.path.insert(0, '/home/c07520/work/Users/c07520/sparkEXample/create_package/base_spark_ML_utils/')"
   ]
  },
  {
   "cell_type": "markdown",
   "metadata": {},
   "source": [
    "# pipeline_util\n",
    "Check Pipeline and PipelineModel"
   ]
  },
  {
   "cell_type": "code",
   "execution_count": 51,
   "metadata": {},
   "outputs": [],
   "source": [
    "import spark_ml_utils.pipeline_util as pu\n",
    "pu=spark_ml_utils.pipeline_util"
   ]
  },
  {
   "cell_type": "code",
   "execution_count": 52,
   "metadata": {},
   "outputs": [],
   "source": [
    "import spark_ml_utils.pipeline_util\n",
    "from importlib import reload\n",
    "reload(spark_ml_utils.pipeline_util)\n",
    "pu=spark_ml_utils.pipeline_util"
   ]
  },
  {
   "cell_type": "markdown",
   "metadata": {},
   "source": [
    "### getStages():  check Pipeline and PipelineModel\n",
    "In practice, Pipeline and Pipelne Model could contain many stages. the getStages() function will list all the stages for easy check."
   ]
  },
  {
   "cell_type": "code",
   "execution_count": 13,
   "metadata": {},
   "outputs": [
    {
     "data": {
      "text/plain": [
       "[SQLTransformer_f91302b3bef1,\n",
       " Pipeline_e1c89b18d4e8,\n",
       " RFormula_9ab00e5fdacc,\n",
       " LogisticRegression_90590144e087]"
      ]
     },
     "execution_count": 13,
     "metadata": {},
     "output_type": "execute_result"
    }
   ],
   "source": [
    "#use native method getStages(), not enough information\n",
    "pipeline.getStages()"
   ]
  },
  {
   "cell_type": "code",
   "execution_count": 27,
   "metadata": {},
   "outputs": [
    {
     "name": "stdout",
     "output_type": "stream",
     "text": [
      "This is a Pipeline \n"
     ]
    },
    {
     "data": {
      "text/html": [
       "<div>\n",
       "<style scoped>\n",
       "    .dataframe tbody tr th:only-of-type {\n",
       "        vertical-align: middle;\n",
       "    }\n",
       "\n",
       "    .dataframe tbody tr th {\n",
       "        vertical-align: top;\n",
       "    }\n",
       "\n",
       "    .dataframe thead th {\n",
       "        text-align: right;\n",
       "    }\n",
       "</style>\n",
       "<table border=\"1\" class=\"dataframe\">\n",
       "  <thead>\n",
       "    <tr style=\"text-align: right;\">\n",
       "      <th></th>\n",
       "      <th>estimator</th>\n",
       "      <th>estimator_name</th>\n",
       "      <th>inputcol</th>\n",
       "      <th>outputcol</th>\n",
       "      <th>other_attr</th>\n",
       "    </tr>\n",
       "  </thead>\n",
       "  <tbody>\n",
       "    <tr>\n",
       "      <th>0</th>\n",
       "      <td>pipeline.getStages()[0]</td>\n",
       "      <td>SQLTransformer</td>\n",
       "      <td>None</td>\n",
       "      <td>None</td>\n",
       "      <td>\"statement=\\nselect *, coalesce(category, 'unknown') category_fillNA \\n                                            from __THIS__ \"</td>\n",
       "    </tr>\n",
       "    <tr>\n",
       "      <th>1</th>\n",
       "      <td>pipeline.getStages()[1].getStages()[0]</td>\n",
       "      <td>Tokenizer</td>\n",
       "      <td>text</td>\n",
       "      <td>words</td>\n",
       "      <td>None</td>\n",
       "    </tr>\n",
       "    <tr>\n",
       "      <th>2</th>\n",
       "      <td>pipeline.getStages()[1].getStages()[1]</td>\n",
       "      <td>HashingTF</td>\n",
       "      <td>words</td>\n",
       "      <td>text_vector</td>\n",
       "      <td>None</td>\n",
       "    </tr>\n",
       "    <tr>\n",
       "      <th>3</th>\n",
       "      <td>pipeline.getStages()[2]</td>\n",
       "      <td>RFormula</td>\n",
       "      <td>None</td>\n",
       "      <td>features</td>\n",
       "      <td>number of inputCol in formula: 2</td>\n",
       "    </tr>\n",
       "    <tr>\n",
       "      <th>4</th>\n",
       "      <td>pipeline.getStages()[3]</td>\n",
       "      <td>LogisticRegression</td>\n",
       "      <td>None</td>\n",
       "      <td>None</td>\n",
       "      <td>None</td>\n",
       "    </tr>\n",
       "  </tbody>\n",
       "</table>\n",
       "</div>"
      ],
      "text/plain": [
       "                                estimator      estimator_name inputcol  \\\n",
       "0                 pipeline.getStages()[0]      SQLTransformer     None   \n",
       "1  pipeline.getStages()[1].getStages()[0]           Tokenizer     text   \n",
       "2  pipeline.getStages()[1].getStages()[1]           HashingTF    words   \n",
       "3                 pipeline.getStages()[2]            RFormula     None   \n",
       "4                 pipeline.getStages()[3]  LogisticRegression     None   \n",
       "\n",
       "     outputcol  \\\n",
       "0         None   \n",
       "1        words   \n",
       "2  text_vector   \n",
       "3     features   \n",
       "4         None   \n",
       "\n",
       "                                                                                                                           other_attr  \n",
       "0  \"statement=\\nselect *, coalesce(category, 'unknown') category_fillNA \\n                                            from __THIS__ \"  \n",
       "1                                                                                                                                None  \n",
       "2                                                                                                                                None  \n",
       "3                                                                                                    number of inputCol in formula: 2  \n",
       "4                                                                                                                                None  "
      ]
     },
     "execution_count": 27,
     "metadata": {},
     "output_type": "execute_result"
    }
   ],
   "source": [
    "pu.getallstages(pipeline,'pipeline')"
   ]
  },
  {
   "cell_type": "code",
   "execution_count": 28,
   "metadata": {},
   "outputs": [
    {
     "name": "stdout",
     "output_type": "stream",
     "text": [
      "This is a PipelineModel \n"
     ]
    },
    {
     "data": {
      "text/html": [
       "<div>\n",
       "<style scoped>\n",
       "    .dataframe tbody tr th:only-of-type {\n",
       "        vertical-align: middle;\n",
       "    }\n",
       "\n",
       "    .dataframe tbody tr th {\n",
       "        vertical-align: top;\n",
       "    }\n",
       "\n",
       "    .dataframe thead th {\n",
       "        text-align: right;\n",
       "    }\n",
       "</style>\n",
       "<table border=\"1\" class=\"dataframe\">\n",
       "  <thead>\n",
       "    <tr style=\"text-align: right;\">\n",
       "      <th></th>\n",
       "      <th>transformer</th>\n",
       "      <th>transformer_name</th>\n",
       "      <th>inputcol</th>\n",
       "      <th>outputcol</th>\n",
       "      <th>other_attr</th>\n",
       "    </tr>\n",
       "  </thead>\n",
       "  <tbody>\n",
       "    <tr>\n",
       "      <th>0</th>\n",
       "      <td>model.stages[0]</td>\n",
       "      <td>SQLTransformer</td>\n",
       "      <td>None</td>\n",
       "      <td>None</td>\n",
       "      <td>\"statement=\\nselect *, coalesce(category, 'unknown') category_fillNA \\n                                            from __THIS__ \"</td>\n",
       "    </tr>\n",
       "    <tr>\n",
       "      <th>1</th>\n",
       "      <td>model.stages[1].stages[0]</td>\n",
       "      <td>Tokenizer</td>\n",
       "      <td>text</td>\n",
       "      <td>words</td>\n",
       "      <td>None</td>\n",
       "    </tr>\n",
       "    <tr>\n",
       "      <th>2</th>\n",
       "      <td>model.stages[1].stages[1]</td>\n",
       "      <td>HashingTF</td>\n",
       "      <td>words</td>\n",
       "      <td>text_vector</td>\n",
       "      <td>None</td>\n",
       "    </tr>\n",
       "    <tr>\n",
       "      <th>3</th>\n",
       "      <td>model.stages[2]</td>\n",
       "      <td>RFormulaModel</td>\n",
       "      <td>None</td>\n",
       "      <td>features</td>\n",
       "      <td>number of inputCol in formula: 2</td>\n",
       "    </tr>\n",
       "    <tr>\n",
       "      <th>4</th>\n",
       "      <td>model.stages[3]</td>\n",
       "      <td>LogisticRegressionModel</td>\n",
       "      <td>None</td>\n",
       "      <td>None</td>\n",
       "      <td>labelCol : label, elasticNetParam : 0.0, regParam : 0.001</td>\n",
       "    </tr>\n",
       "  </tbody>\n",
       "</table>\n",
       "</div>"
      ],
      "text/plain": [
       "                 transformer         transformer_name inputcol    outputcol  \\\n",
       "0            model.stages[0]           SQLTransformer     None         None   \n",
       "1  model.stages[1].stages[0]                Tokenizer     text        words   \n",
       "2  model.stages[1].stages[1]                HashingTF    words  text_vector   \n",
       "3            model.stages[2]            RFormulaModel     None     features   \n",
       "4            model.stages[3]  LogisticRegressionModel     None         None   \n",
       "\n",
       "                                                                                                                           other_attr  \n",
       "0  \"statement=\\nselect *, coalesce(category, 'unknown') category_fillNA \\n                                            from __THIS__ \"  \n",
       "1                                                                                                                                None  \n",
       "2                                                                                                                                None  \n",
       "3                                                                                                    number of inputCol in formula: 2  \n",
       "4                                                                           labelCol : label, elasticNetParam : 0.0, regParam : 0.001  "
      ]
     },
     "execution_count": 28,
     "metadata": {},
     "output_type": "execute_result"
    }
   ],
   "source": [
    "#similar for PipelineModel\n",
    "pu.getallstages(model,'model')"
   ]
  },
  {
   "cell_type": "markdown",
   "metadata": {},
   "source": [
    "#### usage"
   ]
  },
  {
   "cell_type": "code",
   "execution_count": 36,
   "metadata": {},
   "outputs": [
    {
     "data": {
      "text/plain": [
       "pyspark.ml.feature.HashingTF"
      ]
     },
     "execution_count": 36,
     "metadata": {},
     "output_type": "execute_result"
    }
   ],
   "source": [
    "#check any stage\n",
    "type(pipeline.getStages()[1].getStages()[1])"
   ]
  },
  {
   "cell_type": "code",
   "execution_count": 41,
   "metadata": {},
   "outputs": [
    {
     "data": {
      "text/plain": [
       "16"
      ]
     },
     "execution_count": 41,
     "metadata": {},
     "output_type": "execute_result"
    }
   ],
   "source": [
    "pipeline.getStages()[1].getStages()[1].getNumFeatures()"
   ]
  },
  {
   "cell_type": "code",
   "execution_count": null,
   "metadata": {},
   "outputs": [],
   "source": [
    "#find and update the pipeline stages"
   ]
  },
  {
   "cell_type": "code",
   "execution_count": 38,
   "metadata": {},
   "outputs": [],
   "source": [
    "pipeline_update=pipeline.copy()"
   ]
  },
  {
   "cell_type": "code",
   "execution_count": 39,
   "metadata": {},
   "outputs": [
    {
     "data": {
      "text/plain": [
       "HashingTF_8753da0a8eba"
      ]
     },
     "execution_count": 39,
     "metadata": {},
     "output_type": "execute_result"
    }
   ],
   "source": [
    "pipeline_update.getStages()[1].getStages()[1].setNumFeatures(256)"
   ]
  },
  {
   "cell_type": "code",
   "execution_count": 42,
   "metadata": {},
   "outputs": [
    {
     "data": {
      "text/plain": [
       "256"
      ]
     },
     "execution_count": 42,
     "metadata": {},
     "output_type": "execute_result"
    }
   ],
   "source": [
    "pipeline_update.getStages()[1].getStages()[1].getNumFeatures()"
   ]
  },
  {
   "cell_type": "markdown",
   "metadata": {},
   "source": [
    "### get_code(): get the code showing how it is created"
   ]
  },
  {
   "cell_type": "code",
   "execution_count": 31,
   "metadata": {},
   "outputs": [
    {
     "name": "stdout",
     "output_type": "stream",
     "text": [
      "from pyspark.ml import Pipeline\n",
      "from pyspark.ml.feature import SQLTransformer\n",
      "from pyspark.ml.feature import Tokenizer\n",
      "from pyspark.ml.feature import HashingTF\n",
      "from pyspark.ml.feature import RFormula\n",
      "from pyspark.ml.classification import LogisticRegression\n",
      "\n",
      "pipeline2=Pipeline(stages=[\n",
      "########################################stage0\n",
      "SQLTransformer(statement=\"\"\"select *, coalesce(category, 'unknown') category_fillNA \n",
      "                                            from __THIS__ \"\"\")\n",
      "\n",
      ",########################################stage1\n",
      "Tokenizer(outputCol=\"words\",inputCol=\"text\")\n",
      "\n",
      ",########################################stage2\n",
      "HashingTF(numFeatures=16,outputCol=\"text_vector\",inputCol=\"words\")\n",
      "\n",
      ",########################################stage3\n",
      "RFormula(featuresCol=\"features\",handleInvalid=\"keep\",formula=\"~category_fillNA+text_vector\")\n",
      "\n",
      ",########################################stage4\n",
      "LogisticRegression(maxIter=5,regParam=0.001)\n",
      "])\n"
     ]
    }
   ],
   "source": [
    "pstr=pu.get_code(pipeline,'pipeline2') #pstr is a string , same as the following, containing all the code for creating pipeline"
   ]
  },
  {
   "cell_type": "code",
   "execution_count": 32,
   "metadata": {},
   "outputs": [],
   "source": [
    "#run the code \n",
    "exec(pstr)"
   ]
  },
  {
   "cell_type": "code",
   "execution_count": 34,
   "metadata": {},
   "outputs": [
    {
     "name": "stdout",
     "output_type": "stream",
     "text": [
      "This is a Pipeline \n"
     ]
    },
    {
     "data": {
      "text/html": [
       "<div>\n",
       "<style scoped>\n",
       "    .dataframe tbody tr th:only-of-type {\n",
       "        vertical-align: middle;\n",
       "    }\n",
       "\n",
       "    .dataframe tbody tr th {\n",
       "        vertical-align: top;\n",
       "    }\n",
       "\n",
       "    .dataframe thead th {\n",
       "        text-align: right;\n",
       "    }\n",
       "</style>\n",
       "<table border=\"1\" class=\"dataframe\">\n",
       "  <thead>\n",
       "    <tr style=\"text-align: right;\">\n",
       "      <th></th>\n",
       "      <th>estimator</th>\n",
       "      <th>estimator_name</th>\n",
       "      <th>inputcol</th>\n",
       "      <th>outputcol</th>\n",
       "      <th>other_attr</th>\n",
       "    </tr>\n",
       "  </thead>\n",
       "  <tbody>\n",
       "    <tr>\n",
       "      <th>0</th>\n",
       "      <td>pipeline2.getStages()[0]</td>\n",
       "      <td>SQLTransformer</td>\n",
       "      <td>None</td>\n",
       "      <td>None</td>\n",
       "      <td>\"statement=\\nselect *, coalesce(category, 'unknown') category_fillNA \\n                                            from __THIS__ \"</td>\n",
       "    </tr>\n",
       "    <tr>\n",
       "      <th>1</th>\n",
       "      <td>pipeline2.getStages()[1]</td>\n",
       "      <td>Tokenizer</td>\n",
       "      <td>text</td>\n",
       "      <td>words</td>\n",
       "      <td>None</td>\n",
       "    </tr>\n",
       "    <tr>\n",
       "      <th>2</th>\n",
       "      <td>pipeline2.getStages()[2]</td>\n",
       "      <td>HashingTF</td>\n",
       "      <td>words</td>\n",
       "      <td>text_vector</td>\n",
       "      <td>None</td>\n",
       "    </tr>\n",
       "    <tr>\n",
       "      <th>3</th>\n",
       "      <td>pipeline2.getStages()[3]</td>\n",
       "      <td>RFormula</td>\n",
       "      <td>None</td>\n",
       "      <td>features</td>\n",
       "      <td>number of inputCol in formula: 2</td>\n",
       "    </tr>\n",
       "    <tr>\n",
       "      <th>4</th>\n",
       "      <td>pipeline2.getStages()[4]</td>\n",
       "      <td>LogisticRegression</td>\n",
       "      <td>None</td>\n",
       "      <td>None</td>\n",
       "      <td>None</td>\n",
       "    </tr>\n",
       "  </tbody>\n",
       "</table>\n",
       "</div>"
      ],
      "text/plain": [
       "                  estimator      estimator_name inputcol    outputcol  \\\n",
       "0  pipeline2.getStages()[0]      SQLTransformer     None         None   \n",
       "1  pipeline2.getStages()[1]           Tokenizer     text        words   \n",
       "2  pipeline2.getStages()[2]           HashingTF    words  text_vector   \n",
       "3  pipeline2.getStages()[3]            RFormula     None     features   \n",
       "4  pipeline2.getStages()[4]  LogisticRegression     None         None   \n",
       "\n",
       "                                                                                                                           other_attr  \n",
       "0  \"statement=\\nselect *, coalesce(category, 'unknown') category_fillNA \\n                                            from __THIS__ \"  \n",
       "1                                                                                                                                None  \n",
       "2                                                                                                                                None  \n",
       "3                                                                                                    number of inputCol in formula: 2  \n",
       "4                                                                                                                                None  "
      ]
     },
     "execution_count": 34,
     "metadata": {},
     "output_type": "execute_result"
    }
   ],
   "source": [
    "#pipeline2 contains same stages as pipeline, although it is flatten.\n",
    "pu.getallstages(pipeline2,'pipeline2')"
   ]
  },
  {
   "cell_type": "code",
   "execution_count": 35,
   "metadata": {
    "scrolled": true
   },
   "outputs": [
    {
     "name": "stdout",
     "output_type": "stream",
     "text": [
      "from pyspark.ml import Pipeline\n",
      "from pyspark.ml.feature import SQLTransformer\n",
      "from pyspark.ml.feature import Tokenizer\n",
      "from pyspark.ml.feature import HashingTF\n",
      "from pyspark.ml.feature import RFormula\n",
      "from pyspark.ml.classification import LogisticRegression\n",
      "\n",
      "pipeline3=Pipeline(stages=[\n",
      "########################################stage0\n",
      "SQLTransformer(statement=\"\"\"select *, coalesce(category, 'unknown') category_fillNA \n",
      "                                            from __THIS__ \"\"\")\n",
      "\n",
      ",########################################stage1\n",
      "Tokenizer(outputCol=\"words\",inputCol=\"text\")\n",
      "\n",
      ",########################################stage2\n",
      "HashingTF(numFeatures=16,outputCol=\"text_vector\",inputCol=\"words\")\n",
      "\n",
      ",########################################stage3\n",
      "RFormula(featuresCol=\"features\",handleInvalid=\"keep\",formula=\"~category_fillNA+text_vector\")\n",
      "\n",
      ",########################################stage4\n",
      "LogisticRegression(maxIter=5,regParam=0.001)\n",
      "])\n"
     ]
    }
   ],
   "source": [
    "#for PipelineModel, getcode() return the code for its corresponding pipeline\n",
    "_=pu.get_code(model,'pipeline3')"
   ]
  },
  {
   "cell_type": "code",
   "execution_count": 44,
   "metadata": {},
   "outputs": [
    {
     "name": "stdout",
     "output_type": "stream",
     "text": [
      "from pyspark.ml.feature import RFormula\n",
      "\n",
      "obj=RFormula(featuresCol=\"features\",handleInvalid=\"keep\",formula=\"~category_fillNA+text_vector\")\n"
     ]
    }
   ],
   "source": [
    "#it also work for any ML estimator and transformer\n",
    "_=pu.get_code(pipeline.getStages()[2],'obj')"
   ]
  },
  {
   "cell_type": "code",
   "execution_count": 45,
   "metadata": {},
   "outputs": [
    {
     "name": "stdout",
     "output_type": "stream",
     "text": [
      "from pyspark.ml.feature import HashingTF\n",
      "\n",
      "obj=HashingTF(numFeatures=16,outputCol=\"text_vector\",inputCol=\"words\")\n"
     ]
    }
   ],
   "source": [
    "_=pu.get_code(model.stages[1].stages[1],'obj')"
   ]
  },
  {
   "cell_type": "markdown",
   "metadata": {},
   "source": [
    "### Other function"
   ]
  },
  {
   "cell_type": "markdown",
   "metadata": {},
   "source": [
    "#### flatenStages()"
   ]
  },
  {
   "cell_type": "code",
   "execution_count": 48,
   "metadata": {},
   "outputs": [
    {
     "data": {
      "text/plain": [
       "[SQLTransformer_f91302b3bef1,\n",
       " PipelineModel_d4c1008880e5,\n",
       " RFormula_9ab00e5fdacc,\n",
       " LogisticRegressionModel: uid = LogisticRegression_90590144e087, numClasses = 2, numFeatures = 19]"
      ]
     },
     "execution_count": 48,
     "metadata": {},
     "output_type": "execute_result"
    }
   ],
   "source": [
    "model.stages"
   ]
  },
  {
   "cell_type": "code",
   "execution_count": 49,
   "metadata": {},
   "outputs": [
    {
     "data": {
      "text/plain": [
       "[SQLTransformer_f91302b3bef1,\n",
       " Tokenizer_3fa6d50bf10c,\n",
       " HashingTF_8753da0a8eba,\n",
       " RFormula_9ab00e5fdacc,\n",
       " LogisticRegressionModel: uid = LogisticRegression_90590144e087, numClasses = 2, numFeatures = 19]"
      ]
     },
     "execution_count": 49,
     "metadata": {},
     "output_type": "execute_result"
    }
   ],
   "source": [
    "pu.flatenStages(model.stages)"
   ]
  },
  {
   "cell_type": "markdown",
   "metadata": {},
   "source": [
    "#### pm_to_p()\n",
    "convert PipelineModel to Pipeline"
   ]
  },
  {
   "cell_type": "code",
   "execution_count": 46,
   "metadata": {},
   "outputs": [],
   "source": [
    "pipeline4=pu.pm_to_p(model)"
   ]
  },
  {
   "cell_type": "code",
   "execution_count": 47,
   "metadata": {},
   "outputs": [
    {
     "name": "stdout",
     "output_type": "stream",
     "text": [
      "This is a Pipeline \n"
     ]
    },
    {
     "data": {
      "text/html": [
       "<div>\n",
       "<style scoped>\n",
       "    .dataframe tbody tr th:only-of-type {\n",
       "        vertical-align: middle;\n",
       "    }\n",
       "\n",
       "    .dataframe tbody tr th {\n",
       "        vertical-align: top;\n",
       "    }\n",
       "\n",
       "    .dataframe thead th {\n",
       "        text-align: right;\n",
       "    }\n",
       "</style>\n",
       "<table border=\"1\" class=\"dataframe\">\n",
       "  <thead>\n",
       "    <tr style=\"text-align: right;\">\n",
       "      <th></th>\n",
       "      <th>estimator</th>\n",
       "      <th>estimator_name</th>\n",
       "      <th>inputcol</th>\n",
       "      <th>outputcol</th>\n",
       "      <th>other_attr</th>\n",
       "    </tr>\n",
       "  </thead>\n",
       "  <tbody>\n",
       "    <tr>\n",
       "      <th>0</th>\n",
       "      <td>pipeline4.getStages()[0]</td>\n",
       "      <td>SQLTransformer</td>\n",
       "      <td>None</td>\n",
       "      <td>None</td>\n",
       "      <td>\"statement=\\nselect *, coalesce(category, 'unknown') category_fillNA \\n                                            from __THIS__ \"</td>\n",
       "    </tr>\n",
       "    <tr>\n",
       "      <th>1</th>\n",
       "      <td>pipeline4.getStages()[1]</td>\n",
       "      <td>Tokenizer</td>\n",
       "      <td>text</td>\n",
       "      <td>words</td>\n",
       "      <td>None</td>\n",
       "    </tr>\n",
       "    <tr>\n",
       "      <th>2</th>\n",
       "      <td>pipeline4.getStages()[2]</td>\n",
       "      <td>HashingTF</td>\n",
       "      <td>words</td>\n",
       "      <td>text_vector</td>\n",
       "      <td>None</td>\n",
       "    </tr>\n",
       "    <tr>\n",
       "      <th>3</th>\n",
       "      <td>pipeline4.getStages()[3]</td>\n",
       "      <td>RFormula</td>\n",
       "      <td>None</td>\n",
       "      <td>features</td>\n",
       "      <td>number of inputCol in formula: 2</td>\n",
       "    </tr>\n",
       "    <tr>\n",
       "      <th>4</th>\n",
       "      <td>pipeline4.getStages()[4]</td>\n",
       "      <td>LogisticRegression</td>\n",
       "      <td>None</td>\n",
       "      <td>None</td>\n",
       "      <td>None</td>\n",
       "    </tr>\n",
       "  </tbody>\n",
       "</table>\n",
       "</div>"
      ],
      "text/plain": [
       "                  estimator      estimator_name inputcol    outputcol  \\\n",
       "0  pipeline4.getStages()[0]      SQLTransformer     None         None   \n",
       "1  pipeline4.getStages()[1]           Tokenizer     text        words   \n",
       "2  pipeline4.getStages()[2]           HashingTF    words  text_vector   \n",
       "3  pipeline4.getStages()[3]            RFormula     None     features   \n",
       "4  pipeline4.getStages()[4]  LogisticRegression     None         None   \n",
       "\n",
       "                                                                                                                           other_attr  \n",
       "0  \"statement=\\nselect *, coalesce(category, 'unknown') category_fillNA \\n                                            from __THIS__ \"  \n",
       "1                                                                                                                                None  \n",
       "2                                                                                                                                None  \n",
       "3                                                                                                    number of inputCol in formula: 2  \n",
       "4                                                                                                                                None  "
      ]
     },
     "execution_count": 47,
     "metadata": {},
     "output_type": "execute_result"
    }
   ],
   "source": [
    "pu.getallstages(pipeline4,'pipeline4')"
   ]
  },
  {
   "cell_type": "code",
   "execution_count": 1,
   "metadata": {},
   "outputs": [
    {
     "name": "stdout",
     "output_type": "stream",
     "text": [
      "None\n"
     ]
    },
    {
     "name": "stderr",
     "output_type": "stream",
     "text": [
      "Traceback (most recent call last):\n",
      "  File \"<ipython-input-1-830d9875d0cc>\", line 4, in bad_method\n",
      "    sqrt = 0**-1\n",
      "ZeroDivisionError: 0.0 cannot be raised to a negative power\n"
     ]
    }
   ],
   "source": [
    "import traceback\n",
    "def bad_method():\n",
    "    try:\n",
    "        sqrt = 0**-1\n",
    "    except Exception:\n",
    "        print(traceback.print_exc())\n",
    "\n",
    "bad_method()\n"
   ]
  }
 ],
 "metadata": {
  "kernelspec": {
   "display_name": "PySpark",
   "language": "python",
   "name": "pyspark"
  },
  "language_info": {
   "codemirror_mode": {
    "name": "ipython",
    "version": 3
   },
   "file_extension": ".py",
   "mimetype": "text/x-python",
   "name": "python",
   "nbconvert_exporter": "python",
   "pygments_lexer": "ipython3",
   "version": "3.7.6"
  }
 },
 "nbformat": 4,
 "nbformat_minor": 4
}
