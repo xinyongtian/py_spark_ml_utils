{
 "cells": [
  {
   "cell_type": "markdown",
   "metadata": {},
   "source": [
    "# Table of Contents  \n",
    "[**I. Mock data and model**](#Mock-data-and-model)  \n",
    "&nbsp;&nbsp;&nbsp;&nbsp;&nbsp;&nbsp;&nbsp;&nbsp;&nbsp;&nbsp;&nbsp;&nbsp;&nbsp;&nbsp;&nbsp;&nbsp;[I. example data](#example-data)  \n",
    "&nbsp;&nbsp;&nbsp;&nbsp;&nbsp;&nbsp;&nbsp;&nbsp;&nbsp;&nbsp;&nbsp;&nbsp;&nbsp;&nbsp;&nbsp;&nbsp;[II. pipeline](#pipeline)  \n",
    "&nbsp;&nbsp;&nbsp;&nbsp;&nbsp;&nbsp;&nbsp;&nbsp;&nbsp;&nbsp;&nbsp;&nbsp;&nbsp;&nbsp;&nbsp;&nbsp;[III. create PipelineModel](#create-PipelineModel)  \n",
    "&nbsp;&nbsp;&nbsp;&nbsp;&nbsp;&nbsp;&nbsp;&nbsp;&nbsp;&nbsp;&nbsp;&nbsp;&nbsp;&nbsp;&nbsp;&nbsp;[IV. apply the model](#apply-the-model)  \n",
    "[**II. pipeline utility**](#pipeline-utility)  \n",
    "&nbsp;&nbsp;&nbsp;&nbsp;&nbsp;&nbsp;&nbsp;&nbsp;&nbsp;&nbsp;&nbsp;&nbsp;&nbsp;&nbsp;&nbsp;&nbsp;[I. getallstages():  check Pipeline and PipelineModel](#getallstages%28%29:--check-Pipeline-and-PipelineModel)  \n",
    "&nbsp;&nbsp;&nbsp;&nbsp;&nbsp;&nbsp;&nbsp;&nbsp;&nbsp;&nbsp;&nbsp;&nbsp;&nbsp;&nbsp;&nbsp;&nbsp;&nbsp;&nbsp;&nbsp;&nbsp;&nbsp;&nbsp;&nbsp;&nbsp;[I. check a stage](#check-a-stage)  \n",
    "&nbsp;&nbsp;&nbsp;&nbsp;&nbsp;&nbsp;&nbsp;&nbsp;&nbsp;&nbsp;&nbsp;&nbsp;&nbsp;&nbsp;&nbsp;&nbsp;&nbsp;&nbsp;&nbsp;&nbsp;&nbsp;&nbsp;&nbsp;&nbsp;[II. update a stage](#update-a-stage)  \n",
    "&nbsp;&nbsp;&nbsp;&nbsp;&nbsp;&nbsp;&nbsp;&nbsp;&nbsp;&nbsp;&nbsp;&nbsp;&nbsp;&nbsp;&nbsp;&nbsp;[II. getCode(): generate the code for creating the  ml object](#getCode%28%29:-generate-the-code-for-creating-the--ml-object)  \n",
    "&nbsp;&nbsp;&nbsp;&nbsp;&nbsp;&nbsp;&nbsp;&nbsp;&nbsp;&nbsp;&nbsp;&nbsp;&nbsp;&nbsp;&nbsp;&nbsp;[III. convert  transformer to estimator](#convert--transformer-to-estimator)  \n",
    "&nbsp;&nbsp;&nbsp;&nbsp;&nbsp;&nbsp;&nbsp;&nbsp;&nbsp;&nbsp;&nbsp;&nbsp;&nbsp;&nbsp;&nbsp;&nbsp;&nbsp;&nbsp;&nbsp;&nbsp;&nbsp;&nbsp;&nbsp;&nbsp;[I. model_to_estimator()](#model_to_estimator%28%29)  \n",
    "&nbsp;&nbsp;&nbsp;&nbsp;&nbsp;&nbsp;&nbsp;&nbsp;&nbsp;&nbsp;&nbsp;&nbsp;&nbsp;&nbsp;&nbsp;&nbsp;&nbsp;&nbsp;&nbsp;&nbsp;&nbsp;&nbsp;&nbsp;&nbsp;[II. pm_to_p(): covert PipelineModel to Pipeline](#pm_to_p%28%29:-covert-PipelineModel-to-Pipeline)  \n",
    "&nbsp;&nbsp;&nbsp;&nbsp;&nbsp;&nbsp;&nbsp;&nbsp;&nbsp;&nbsp;&nbsp;&nbsp;&nbsp;&nbsp;&nbsp;&nbsp;[IV. Other function](#Other-function)  \n",
    "&nbsp;&nbsp;&nbsp;&nbsp;&nbsp;&nbsp;&nbsp;&nbsp;&nbsp;&nbsp;&nbsp;&nbsp;&nbsp;&nbsp;&nbsp;&nbsp;&nbsp;&nbsp;&nbsp;&nbsp;&nbsp;&nbsp;&nbsp;&nbsp;[I. flatenStages()](#flatenStages%28%29)  \n",
    "[**III. LogisticRegressionModel utility**](#LogisticRegressionModel-utility)  \n",
    "&nbsp;&nbsp;&nbsp;&nbsp;&nbsp;&nbsp;&nbsp;&nbsp;&nbsp;&nbsp;&nbsp;&nbsp;&nbsp;&nbsp;&nbsp;&nbsp;[I. extract_feature_name()](#extract_feature_name%28%29)  \n",
    "&nbsp;&nbsp;&nbsp;&nbsp;&nbsp;&nbsp;&nbsp;&nbsp;&nbsp;&nbsp;&nbsp;&nbsp;&nbsp;&nbsp;&nbsp;&nbsp;[II. feature_importance()](#feature_importance%28%29)  "
   ]
  },
  {
   "cell_type": "code",
   "execution_count": 1,
   "metadata": {},
   "outputs": [],
   "source": [
    "#spark.stop()"
   ]
  },
  {
   "cell_type": "code",
   "execution_count": 2,
   "metadata": {},
   "outputs": [],
   "source": [
    "from pyspark.sql import SparkSession\n",
    "spark = SparkSession \\\n",
    "    .builder \\\n",
    "    .getOrCreate()"
   ]
  },
  {
   "cell_type": "markdown",
   "metadata": {},
   "source": [
    "# Mock data and model"
   ]
  },
  {
   "cell_type": "code",
   "execution_count": 3,
   "metadata": {},
   "outputs": [],
   "source": [
    "from pyspark.ml import Pipeline\n",
    "from pyspark.ml.classification import LogisticRegression\n",
    "from pyspark.ml.feature import HashingTF, Tokenizer\n",
    "from pyspark.ml.feature import SQLTransformer\n",
    "from pyspark.ml.feature import RFormula"
   ]
  },
  {
   "cell_type": "code",
   "execution_count": 4,
   "metadata": {},
   "outputs": [],
   "source": [
    "import pandas as pd\n",
    "pd.set_option('display.max_colwidth', 100)\n",
    "pd.set_option('display.max_rows', 500000)\n",
    "pd.set_option('display.max_colwidth', None)\n",
    "pd.set_option(\"display.max_columns\",5000)"
   ]
  },
  {
   "cell_type": "markdown",
   "metadata": {},
   "source": [
    "### example data"
   ]
  },
  {
   "cell_type": "code",
   "execution_count": 5,
   "metadata": {},
   "outputs": [],
   "source": [
    "# create dataframe\n",
    "training = spark.createDataFrame([\n",
    "    (0,'y', \"a b c d e spark\", 1.0),\n",
    "    (1,'y', \"b d\", 0.0),\n",
    "    (2, None, \"spark f g h\", 1.0),\n",
    "    (3, 'n',\"hadoop mapreduce\", 0.0)\n",
    "], [\"id\",'category', \"text\", \"label\"])"
   ]
  },
  {
   "cell_type": "markdown",
   "metadata": {},
   "source": [
    "### pipeline"
   ]
  },
  {
   "cell_type": "code",
   "execution_count": 6,
   "metadata": {},
   "outputs": [],
   "source": [
    "#process 'category' column\n",
    "category_process=SQLTransformer(statement=\"\"\"select *, coalesce(category, 'unknown') category_fillNA \n",
    "                                            from __THIS__ \"\"\")"
   ]
  },
  {
   "cell_type": "code",
   "execution_count": 7,
   "metadata": {},
   "outputs": [],
   "source": [
    "#text_process: a pipeline , process text column\n",
    "tokenizer = Tokenizer(inputCol=\"text\", outputCol=\"words\")\n",
    "hashingTF = HashingTF(inputCol=tokenizer.getOutputCol(), outputCol=\"text_vector\",numFeatures=16)\n",
    "text_process=Pipeline(stages=[tokenizer, hashingTF])"
   ]
  },
  {
   "cell_type": "code",
   "execution_count": 8,
   "metadata": {},
   "outputs": [],
   "source": [
    "features_assemble=RFormula(formula=\"~category_fillNA+text_vector\",featuresCol='features',handleInvalid='keep')"
   ]
  },
  {
   "cell_type": "code",
   "execution_count": 9,
   "metadata": {},
   "outputs": [],
   "source": [
    "lr = LogisticRegression(maxIter=5, regParam=0.001)"
   ]
  },
  {
   "cell_type": "code",
   "execution_count": 10,
   "metadata": {},
   "outputs": [],
   "source": [
    "#put together into a pipeline\n",
    "pipeline = Pipeline(stages=[category_process, text_process,features_assemble, lr])"
   ]
  },
  {
   "cell_type": "markdown",
   "metadata": {},
   "source": [
    "### create PipelineModel"
   ]
  },
  {
   "cell_type": "code",
   "execution_count": 11,
   "metadata": {},
   "outputs": [],
   "source": [
    "model = pipeline.fit(training)"
   ]
  },
  {
   "cell_type": "markdown",
   "metadata": {},
   "source": [
    "### apply the model"
   ]
  },
  {
   "cell_type": "code",
   "execution_count": 12,
   "metadata": {},
   "outputs": [],
   "source": [
    "training_pred=model.transform(training)"
   ]
  },
  {
   "cell_type": "code",
   "execution_count": 13,
   "metadata": {},
   "outputs": [],
   "source": [
    "#import sys\n",
    "#sys.path.insert(0, '/home/c07520/work/Users/c07520/sparkEXample/create_package/base_spark_ML_utils/')"
   ]
  },
  {
   "cell_type": "markdown",
   "metadata": {},
   "source": [
    "# pipeline utility"
   ]
  },
  {
   "cell_type": "code",
   "execution_count": 14,
   "metadata": {},
   "outputs": [],
   "source": [
    "import spark_ml_utils.pipeline_util as pu"
   ]
  },
  {
   "cell_type": "markdown",
   "metadata": {},
   "source": [
    "\n",
    "### getallstages():  check Pipeline and PipelineModel\n",
    "In practice, Pipeline and Pipelne Model could contain many stages. the getStages() function will list all the stages for easy check."
   ]
  },
  {
   "cell_type": "code",
   "execution_count": 15,
   "metadata": {},
   "outputs": [
    {
     "data": {
      "text/plain": [
       "[SQLTransformer_61223a998f0c,\n",
       " Pipeline_2458ce200fec,\n",
       " RFormula_7f1108f03d1d,\n",
       " LogisticRegression_6ff8c810fb72]"
      ]
     },
     "execution_count": 15,
     "metadata": {},
     "output_type": "execute_result"
    }
   ],
   "source": [
    "#use native method getStages(), not much information\n",
    "pipeline.getStages()"
   ]
  },
  {
   "cell_type": "code",
   "execution_count": 16,
   "metadata": {},
   "outputs": [
    {
     "name": "stdout",
     "output_type": "stream",
     "text": [
      "This is a Pipeline \n"
     ]
    },
    {
     "data": {
      "text/html": [
       "<div>\n",
       "<style scoped>\n",
       "    .dataframe tbody tr th:only-of-type {\n",
       "        vertical-align: middle;\n",
       "    }\n",
       "\n",
       "    .dataframe tbody tr th {\n",
       "        vertical-align: top;\n",
       "    }\n",
       "\n",
       "    .dataframe thead th {\n",
       "        text-align: right;\n",
       "    }\n",
       "</style>\n",
       "<table border=\"1\" class=\"dataframe\">\n",
       "  <thead>\n",
       "    <tr style=\"text-align: right;\">\n",
       "      <th></th>\n",
       "      <th>estimator</th>\n",
       "      <th>estimator_name</th>\n",
       "      <th>inputcol</th>\n",
       "      <th>outputcol</th>\n",
       "      <th>other_parameters</th>\n",
       "    </tr>\n",
       "  </thead>\n",
       "  <tbody>\n",
       "    <tr>\n",
       "      <th>0</th>\n",
       "      <td>pipeline.getStages()[0]</td>\n",
       "      <td>SQLTransformer</td>\n",
       "      <td>None</td>\n",
       "      <td>None</td>\n",
       "      <td>\"statement=\\nselect *, coalesce(category, 'unknown') category_fillNA \\n                                            from __THIS__ \"</td>\n",
       "    </tr>\n",
       "    <tr>\n",
       "      <th>1</th>\n",
       "      <td>pipeline.getStages()[1].getStages()[0]</td>\n",
       "      <td>Tokenizer</td>\n",
       "      <td>text</td>\n",
       "      <td>words</td>\n",
       "      <td>None</td>\n",
       "    </tr>\n",
       "    <tr>\n",
       "      <th>2</th>\n",
       "      <td>pipeline.getStages()[1].getStages()[1]</td>\n",
       "      <td>HashingTF</td>\n",
       "      <td>words</td>\n",
       "      <td>text_vector</td>\n",
       "      <td>None</td>\n",
       "    </tr>\n",
       "    <tr>\n",
       "      <th>3</th>\n",
       "      <td>pipeline.getStages()[2]</td>\n",
       "      <td>RFormula</td>\n",
       "      <td>None</td>\n",
       "      <td>features</td>\n",
       "      <td>number of inputCol in formula: 2</td>\n",
       "    </tr>\n",
       "    <tr>\n",
       "      <th>4</th>\n",
       "      <td>pipeline.getStages()[3]</td>\n",
       "      <td>LogisticRegression</td>\n",
       "      <td>None</td>\n",
       "      <td>None</td>\n",
       "      <td>None</td>\n",
       "    </tr>\n",
       "  </tbody>\n",
       "</table>\n",
       "</div>"
      ],
      "text/plain": [
       "                                estimator      estimator_name inputcol  \\\n",
       "0                 pipeline.getStages()[0]      SQLTransformer     None   \n",
       "1  pipeline.getStages()[1].getStages()[0]           Tokenizer     text   \n",
       "2  pipeline.getStages()[1].getStages()[1]           HashingTF    words   \n",
       "3                 pipeline.getStages()[2]            RFormula     None   \n",
       "4                 pipeline.getStages()[3]  LogisticRegression     None   \n",
       "\n",
       "     outputcol  \\\n",
       "0         None   \n",
       "1        words   \n",
       "2  text_vector   \n",
       "3     features   \n",
       "4         None   \n",
       "\n",
       "                                                                                                                     other_parameters  \n",
       "0  \"statement=\\nselect *, coalesce(category, 'unknown') category_fillNA \\n                                            from __THIS__ \"  \n",
       "1                                                                                                                                None  \n",
       "2                                                                                                                                None  \n",
       "3                                                                                                    number of inputCol in formula: 2  \n",
       "4                                                                                                                                None  "
      ]
     },
     "execution_count": 16,
     "metadata": {},
     "output_type": "execute_result"
    }
   ],
   "source": [
    "pu.getallstages(pipeline,'pipeline')"
   ]
  },
  {
   "cell_type": "code",
   "execution_count": 17,
   "metadata": {},
   "outputs": [
    {
     "name": "stdout",
     "output_type": "stream",
     "text": [
      "This is a PipelineModel \n"
     ]
    },
    {
     "data": {
      "text/html": [
       "<div>\n",
       "<style scoped>\n",
       "    .dataframe tbody tr th:only-of-type {\n",
       "        vertical-align: middle;\n",
       "    }\n",
       "\n",
       "    .dataframe tbody tr th {\n",
       "        vertical-align: top;\n",
       "    }\n",
       "\n",
       "    .dataframe thead th {\n",
       "        text-align: right;\n",
       "    }\n",
       "</style>\n",
       "<table border=\"1\" class=\"dataframe\">\n",
       "  <thead>\n",
       "    <tr style=\"text-align: right;\">\n",
       "      <th></th>\n",
       "      <th>transformer</th>\n",
       "      <th>transformer_name</th>\n",
       "      <th>inputcol</th>\n",
       "      <th>outputcol</th>\n",
       "      <th>other_parameters</th>\n",
       "    </tr>\n",
       "  </thead>\n",
       "  <tbody>\n",
       "    <tr>\n",
       "      <th>0</th>\n",
       "      <td>model.stages[0]</td>\n",
       "      <td>SQLTransformer</td>\n",
       "      <td>None</td>\n",
       "      <td>None</td>\n",
       "      <td>\"statement=\\nselect *, coalesce(category, 'unknown') category_fillNA \\n                                            from __THIS__ \"</td>\n",
       "    </tr>\n",
       "    <tr>\n",
       "      <th>1</th>\n",
       "      <td>model.stages[1].stages[0]</td>\n",
       "      <td>Tokenizer</td>\n",
       "      <td>text</td>\n",
       "      <td>words</td>\n",
       "      <td>None</td>\n",
       "    </tr>\n",
       "    <tr>\n",
       "      <th>2</th>\n",
       "      <td>model.stages[1].stages[1]</td>\n",
       "      <td>HashingTF</td>\n",
       "      <td>words</td>\n",
       "      <td>text_vector</td>\n",
       "      <td>None</td>\n",
       "    </tr>\n",
       "    <tr>\n",
       "      <th>3</th>\n",
       "      <td>model.stages[2]</td>\n",
       "      <td>RFormulaModel</td>\n",
       "      <td>None</td>\n",
       "      <td>features</td>\n",
       "      <td>number of inputCol in formula: 2</td>\n",
       "    </tr>\n",
       "    <tr>\n",
       "      <th>4</th>\n",
       "      <td>model.stages[3]</td>\n",
       "      <td>LogisticRegressionModel</td>\n",
       "      <td>None</td>\n",
       "      <td>None</td>\n",
       "      <td>labelCol : label, elasticNetParam : 0.0, regParam : 0.001</td>\n",
       "    </tr>\n",
       "  </tbody>\n",
       "</table>\n",
       "</div>"
      ],
      "text/plain": [
       "                 transformer         transformer_name inputcol    outputcol  \\\n",
       "0            model.stages[0]           SQLTransformer     None         None   \n",
       "1  model.stages[1].stages[0]                Tokenizer     text        words   \n",
       "2  model.stages[1].stages[1]                HashingTF    words  text_vector   \n",
       "3            model.stages[2]            RFormulaModel     None     features   \n",
       "4            model.stages[3]  LogisticRegressionModel     None         None   \n",
       "\n",
       "                                                                                                                     other_parameters  \n",
       "0  \"statement=\\nselect *, coalesce(category, 'unknown') category_fillNA \\n                                            from __THIS__ \"  \n",
       "1                                                                                                                                None  \n",
       "2                                                                                                                                None  \n",
       "3                                                                                                    number of inputCol in formula: 2  \n",
       "4                                                                           labelCol : label, elasticNetParam : 0.0, regParam : 0.001  "
      ]
     },
     "execution_count": 17,
     "metadata": {},
     "output_type": "execute_result"
    }
   ],
   "source": [
    "#similar for PipelineModel\n",
    "pu.getallstages(model,'model')"
   ]
  },
  {
   "cell_type": "markdown",
   "metadata": {},
   "source": [
    "#### check a stage"
   ]
  },
  {
   "cell_type": "code",
   "execution_count": 18,
   "metadata": {},
   "outputs": [
    {
     "data": {
      "text/plain": [
       "pyspark.ml.feature.HashingTF"
      ]
     },
     "execution_count": 18,
     "metadata": {},
     "output_type": "execute_result"
    }
   ],
   "source": [
    "type(pipeline.getStages()[1].getStages()[1])"
   ]
  },
  {
   "cell_type": "code",
   "execution_count": 19,
   "metadata": {},
   "outputs": [
    {
     "data": {
      "text/plain": [
       "16"
      ]
     },
     "execution_count": 19,
     "metadata": {},
     "output_type": "execute_result"
    }
   ],
   "source": [
    "pipeline.getStages()[1].getStages()[1].getNumFeatures()"
   ]
  },
  {
   "cell_type": "code",
   "execution_count": 43,
   "metadata": {},
   "outputs": [
    {
     "data": {
      "text/plain": [
       "{Param(parent='HashingTF_40b6726a435c', name='outputCol', doc='output column name.'): 'text_vector',\n",
       " Param(parent='HashingTF_40b6726a435c', name='numFeatures', doc='number of features.'): 16,\n",
       " Param(parent='HashingTF_40b6726a435c', name='binary', doc='If True, all non zero counts are set to 1. This is useful for discrete probabilistic models that model binary events rather than integer counts. Default False.'): False,\n",
       " Param(parent='HashingTF_40b6726a435c', name='inputCol', doc='input column name.'): 'words'}"
      ]
     },
     "execution_count": 43,
     "metadata": {},
     "output_type": "execute_result"
    }
   ],
   "source": [
    "pipeline.getStages()[1].getStages()[1].extractParamMap()"
   ]
  },
  {
   "cell_type": "markdown",
   "metadata": {},
   "source": [
    "#### update a stage"
   ]
  },
  {
   "cell_type": "code",
   "execution_count": 20,
   "metadata": {},
   "outputs": [],
   "source": [
    "pipeline_update=pipeline.copy()"
   ]
  },
  {
   "cell_type": "code",
   "execution_count": 21,
   "metadata": {},
   "outputs": [
    {
     "data": {
      "text/plain": [
       "HashingTF_40b6726a435c"
      ]
     },
     "execution_count": 21,
     "metadata": {},
     "output_type": "execute_result"
    }
   ],
   "source": [
    "pipeline_update.getStages()[1].getStages()[1].setNumFeatures(256)"
   ]
  },
  {
   "cell_type": "code",
   "execution_count": 22,
   "metadata": {},
   "outputs": [
    {
     "data": {
      "text/plain": [
       "256"
      ]
     },
     "execution_count": 22,
     "metadata": {},
     "output_type": "execute_result"
    }
   ],
   "source": [
    "pipeline_update.getStages()[1].getStages()[1].getNumFeatures()"
   ]
  },
  {
   "cell_type": "markdown",
   "metadata": {},
   "source": [
    "### getCode(): generate the code for creating the  ml object\n",
    "Can be used to check the detailed parameters of a ml object, easier to read than extractParamMap() method. In addition, a modified object can be created by modifying  the code directly ,then running the code. "
   ]
  },
  {
   "cell_type": "code",
   "execution_count": 23,
   "metadata": {},
   "outputs": [
    {
     "name": "stdout",
     "output_type": "stream",
     "text": [
      "from pyspark.ml import Pipeline\n",
      "from pyspark.ml.feature import SQLTransformer\n",
      "from pyspark.ml.feature import Tokenizer\n",
      "from pyspark.ml.feature import HashingTF\n",
      "from pyspark.ml.feature import RFormula\n",
      "from pyspark.ml.classification import LogisticRegression\n",
      "\n",
      "pipeline2=Pipeline(stages=[\n",
      "########################################stage0\n",
      "SQLTransformer(statement=\"\"\"select *, coalesce(category, 'unknown') category_fillNA \n",
      "                                            from __THIS__ \"\"\")\n",
      "\n",
      ",########################################stage1\n",
      "Tokenizer(outputCol=\"words\",inputCol=\"text\")\n",
      "\n",
      ",########################################stage2\n",
      "HashingTF(numFeatures=16,outputCol=\"text_vector\",inputCol=\"words\")\n",
      "\n",
      ",########################################stage3\n",
      "RFormula(featuresCol=\"features\",handleInvalid=\"keep\",formula=\"~category_fillNA+text_vector\")\n",
      "\n",
      ",########################################stage4\n",
      "LogisticRegression(maxIter=5,regParam=0.001)\n",
      "])\n"
     ]
    }
   ],
   "source": [
    "pstr=pu.getCode(pipeline,'pipeline2',) #pstr is a string , same as the follwing printout, containing all the code for creating the pipeline"
   ]
  },
  {
   "cell_type": "code",
   "execution_count": 24,
   "metadata": {},
   "outputs": [],
   "source": [
    "#run the code \n",
    "exec(pstr)"
   ]
  },
  {
   "cell_type": "code",
   "execution_count": 25,
   "metadata": {},
   "outputs": [
    {
     "name": "stdout",
     "output_type": "stream",
     "text": [
      "This is a Pipeline \n"
     ]
    },
    {
     "data": {
      "text/html": [
       "<div>\n",
       "<style scoped>\n",
       "    .dataframe tbody tr th:only-of-type {\n",
       "        vertical-align: middle;\n",
       "    }\n",
       "\n",
       "    .dataframe tbody tr th {\n",
       "        vertical-align: top;\n",
       "    }\n",
       "\n",
       "    .dataframe thead th {\n",
       "        text-align: right;\n",
       "    }\n",
       "</style>\n",
       "<table border=\"1\" class=\"dataframe\">\n",
       "  <thead>\n",
       "    <tr style=\"text-align: right;\">\n",
       "      <th></th>\n",
       "      <th>estimator</th>\n",
       "      <th>estimator_name</th>\n",
       "      <th>inputcol</th>\n",
       "      <th>outputcol</th>\n",
       "      <th>other_parameters</th>\n",
       "    </tr>\n",
       "  </thead>\n",
       "  <tbody>\n",
       "    <tr>\n",
       "      <th>0</th>\n",
       "      <td>pipeline2.getStages()[0]</td>\n",
       "      <td>SQLTransformer</td>\n",
       "      <td>None</td>\n",
       "      <td>None</td>\n",
       "      <td>\"statement=\\nselect *, coalesce(category, 'unknown') category_fillNA \\n                                            from __THIS__ \"</td>\n",
       "    </tr>\n",
       "    <tr>\n",
       "      <th>1</th>\n",
       "      <td>pipeline2.getStages()[1]</td>\n",
       "      <td>Tokenizer</td>\n",
       "      <td>text</td>\n",
       "      <td>words</td>\n",
       "      <td>None</td>\n",
       "    </tr>\n",
       "    <tr>\n",
       "      <th>2</th>\n",
       "      <td>pipeline2.getStages()[2]</td>\n",
       "      <td>HashingTF</td>\n",
       "      <td>words</td>\n",
       "      <td>text_vector</td>\n",
       "      <td>None</td>\n",
       "    </tr>\n",
       "    <tr>\n",
       "      <th>3</th>\n",
       "      <td>pipeline2.getStages()[3]</td>\n",
       "      <td>RFormula</td>\n",
       "      <td>None</td>\n",
       "      <td>features</td>\n",
       "      <td>number of inputCol in formula: 2</td>\n",
       "    </tr>\n",
       "    <tr>\n",
       "      <th>4</th>\n",
       "      <td>pipeline2.getStages()[4]</td>\n",
       "      <td>LogisticRegression</td>\n",
       "      <td>None</td>\n",
       "      <td>None</td>\n",
       "      <td>None</td>\n",
       "    </tr>\n",
       "  </tbody>\n",
       "</table>\n",
       "</div>"
      ],
      "text/plain": [
       "                  estimator      estimator_name inputcol    outputcol  \\\n",
       "0  pipeline2.getStages()[0]      SQLTransformer     None         None   \n",
       "1  pipeline2.getStages()[1]           Tokenizer     text        words   \n",
       "2  pipeline2.getStages()[2]           HashingTF    words  text_vector   \n",
       "3  pipeline2.getStages()[3]            RFormula     None     features   \n",
       "4  pipeline2.getStages()[4]  LogisticRegression     None         None   \n",
       "\n",
       "                                                                                                                     other_parameters  \n",
       "0  \"statement=\\nselect *, coalesce(category, 'unknown') category_fillNA \\n                                            from __THIS__ \"  \n",
       "1                                                                                                                                None  \n",
       "2                                                                                                                                None  \n",
       "3                                                                                                    number of inputCol in formula: 2  \n",
       "4                                                                                                                                None  "
      ]
     },
     "execution_count": 25,
     "metadata": {},
     "output_type": "execute_result"
    }
   ],
   "source": [
    "#pipeline2 contains same stages as pipeline, although it is flatten.\n",
    "pu.getallstages(pipeline2,'pipeline2')"
   ]
  },
  {
   "cell_type": "code",
   "execution_count": 26,
   "metadata": {
    "scrolled": true
   },
   "outputs": [
    {
     "name": "stdout",
     "output_type": "stream",
     "text": [
      "from pyspark.ml import Pipeline\n",
      "from pyspark.ml.feature import SQLTransformer\n",
      "from pyspark.ml.feature import Tokenizer\n",
      "from pyspark.ml.feature import HashingTF\n",
      "from pyspark.ml.feature import RFormula\n",
      "from pyspark.ml.classification import LogisticRegression\n",
      "\n",
      "pipeline3=Pipeline(stages=[\n",
      "########################################stage0\n",
      "SQLTransformer(statement=\"\"\"select *, coalesce(category, 'unknown') category_fillNA \n",
      "                                            from __THIS__ \"\"\")\n",
      "\n",
      ",########################################stage1\n",
      "Tokenizer(outputCol=\"words\",inputCol=\"text\")\n",
      "\n",
      ",########################################stage2\n",
      "HashingTF(numFeatures=16,outputCol=\"text_vector\",inputCol=\"words\")\n",
      "\n",
      ",########################################stage3\n",
      "RFormula(featuresCol=\"features\",handleInvalid=\"keep\",formula=\"~category_fillNA+text_vector\")\n",
      "\n",
      ",########################################stage4\n",
      "LogisticRegression(maxIter=5,regParam=0.001)\n",
      "])\n"
     ]
    }
   ],
   "source": [
    "#for PipelineModel, getcode() return the code for its corresponding pipeline\n",
    "_=pu.getCode(model,'pipeline3')"
   ]
  },
  {
   "cell_type": "code",
   "execution_count": 27,
   "metadata": {},
   "outputs": [
    {
     "name": "stdout",
     "output_type": "stream",
     "text": [
      "from pyspark.ml.feature import RFormula\n",
      "\n",
      "obj=RFormula(featuresCol=\"features\",handleInvalid=\"keep\",formula=\"~category_fillNA+text_vector\")\n"
     ]
    }
   ],
   "source": [
    "#it also work for any ML estimator and transformer\n",
    "_=pu.getCode(pipeline.getStages()[2],'obj')"
   ]
  },
  {
   "cell_type": "code",
   "execution_count": 28,
   "metadata": {},
   "outputs": [
    {
     "name": "stdout",
     "output_type": "stream",
     "text": [
      "from pyspark.ml.feature import HashingTF\n",
      "\n",
      "obj=HashingTF(numFeatures=16,outputCol=\"text_vector\",inputCol=\"words\")\n"
     ]
    }
   ],
   "source": [
    "_=pu.getCode(model.stages[1].stages[1],'obj')"
   ]
  },
  {
   "cell_type": "markdown",
   "metadata": {},
   "source": [
    "### convert  transformer to estimator"
   ]
  },
  {
   "cell_type": "markdown",
   "metadata": {},
   "source": [
    "#### model_to_estimator()"
   ]
  },
  {
   "cell_type": "code",
   "execution_count": 29,
   "metadata": {},
   "outputs": [],
   "source": [
    "lrm=model.stages[3]"
   ]
  },
  {
   "cell_type": "code",
   "execution_count": 30,
   "metadata": {},
   "outputs": [
    {
     "data": {
      "text/plain": [
       "LogisticRegressionModel: uid = LogisticRegression_6ff8c810fb72, numClasses = 2, numFeatures = 19"
      ]
     },
     "execution_count": 30,
     "metadata": {},
     "output_type": "execute_result"
    }
   ],
   "source": [
    "lrm"
   ]
  },
  {
   "cell_type": "code",
   "execution_count": 31,
   "metadata": {},
   "outputs": [],
   "source": [
    "lr=pu.model_to_estimator(lrm)"
   ]
  },
  {
   "cell_type": "code",
   "execution_count": 32,
   "metadata": {},
   "outputs": [
    {
     "data": {
      "text/plain": [
       "LogisticRegression_47e73eca2d76"
      ]
     },
     "execution_count": 32,
     "metadata": {},
     "output_type": "execute_result"
    }
   ],
   "source": [
    "lr"
   ]
  },
  {
   "cell_type": "markdown",
   "metadata": {},
   "source": [
    "#### pm_to_p(): covert PipelineModel to Pipeline"
   ]
  },
  {
   "cell_type": "code",
   "execution_count": 33,
   "metadata": {},
   "outputs": [],
   "source": [
    "pipeline4=pu.pm_to_p(model)"
   ]
  },
  {
   "cell_type": "code",
   "execution_count": 34,
   "metadata": {
    "scrolled": true
   },
   "outputs": [
    {
     "name": "stdout",
     "output_type": "stream",
     "text": [
      "This is a Pipeline \n"
     ]
    },
    {
     "data": {
      "text/html": [
       "<div>\n",
       "<style scoped>\n",
       "    .dataframe tbody tr th:only-of-type {\n",
       "        vertical-align: middle;\n",
       "    }\n",
       "\n",
       "    .dataframe tbody tr th {\n",
       "        vertical-align: top;\n",
       "    }\n",
       "\n",
       "    .dataframe thead th {\n",
       "        text-align: right;\n",
       "    }\n",
       "</style>\n",
       "<table border=\"1\" class=\"dataframe\">\n",
       "  <thead>\n",
       "    <tr style=\"text-align: right;\">\n",
       "      <th></th>\n",
       "      <th>estimator</th>\n",
       "      <th>estimator_name</th>\n",
       "      <th>inputcol</th>\n",
       "      <th>outputcol</th>\n",
       "      <th>other_parameters</th>\n",
       "    </tr>\n",
       "  </thead>\n",
       "  <tbody>\n",
       "    <tr>\n",
       "      <th>0</th>\n",
       "      <td>pipeline4.getStages()[0]</td>\n",
       "      <td>SQLTransformer</td>\n",
       "      <td>None</td>\n",
       "      <td>None</td>\n",
       "      <td>\"statement=\\nselect *, coalesce(category, 'unknown') category_fillNA \\n                                            from __THIS__ \"</td>\n",
       "    </tr>\n",
       "    <tr>\n",
       "      <th>1</th>\n",
       "      <td>pipeline4.getStages()[1]</td>\n",
       "      <td>Tokenizer</td>\n",
       "      <td>text</td>\n",
       "      <td>words</td>\n",
       "      <td>None</td>\n",
       "    </tr>\n",
       "    <tr>\n",
       "      <th>2</th>\n",
       "      <td>pipeline4.getStages()[2]</td>\n",
       "      <td>HashingTF</td>\n",
       "      <td>words</td>\n",
       "      <td>text_vector</td>\n",
       "      <td>None</td>\n",
       "    </tr>\n",
       "    <tr>\n",
       "      <th>3</th>\n",
       "      <td>pipeline4.getStages()[3]</td>\n",
       "      <td>RFormula</td>\n",
       "      <td>None</td>\n",
       "      <td>features</td>\n",
       "      <td>number of inputCol in formula: 2</td>\n",
       "    </tr>\n",
       "    <tr>\n",
       "      <th>4</th>\n",
       "      <td>pipeline4.getStages()[4]</td>\n",
       "      <td>LogisticRegression</td>\n",
       "      <td>None</td>\n",
       "      <td>None</td>\n",
       "      <td>None</td>\n",
       "    </tr>\n",
       "  </tbody>\n",
       "</table>\n",
       "</div>"
      ],
      "text/plain": [
       "                  estimator      estimator_name inputcol    outputcol  \\\n",
       "0  pipeline4.getStages()[0]      SQLTransformer     None         None   \n",
       "1  pipeline4.getStages()[1]           Tokenizer     text        words   \n",
       "2  pipeline4.getStages()[2]           HashingTF    words  text_vector   \n",
       "3  pipeline4.getStages()[3]            RFormula     None     features   \n",
       "4  pipeline4.getStages()[4]  LogisticRegression     None         None   \n",
       "\n",
       "                                                                                                                     other_parameters  \n",
       "0  \"statement=\\nselect *, coalesce(category, 'unknown') category_fillNA \\n                                            from __THIS__ \"  \n",
       "1                                                                                                                                None  \n",
       "2                                                                                                                                None  \n",
       "3                                                                                                    number of inputCol in formula: 2  \n",
       "4                                                                                                                                None  "
      ]
     },
     "execution_count": 34,
     "metadata": {},
     "output_type": "execute_result"
    }
   ],
   "source": [
    "pu.getallstages(pipeline4,'pipeline4')"
   ]
  },
  {
   "cell_type": "markdown",
   "metadata": {},
   "source": [
    "one application of pm_to_p() is that, after model training,  **only PipelineModel**, not pipeline, **needs be persistented**, as PipelineModel is convertable."
   ]
  },
  {
   "cell_type": "code",
   "execution_count": null,
   "metadata": {},
   "outputs": [],
   "source": []
  },
  {
   "cell_type": "markdown",
   "metadata": {},
   "source": [
    "### Other function"
   ]
  },
  {
   "cell_type": "markdown",
   "metadata": {},
   "source": [
    "#### flatenStages()"
   ]
  },
  {
   "cell_type": "code",
   "execution_count": 35,
   "metadata": {},
   "outputs": [
    {
     "data": {
      "text/plain": [
       "[SQLTransformer_61223a998f0c,\n",
       " PipelineModel_0a71bf5fd76d,\n",
       " RFormula_7f1108f03d1d,\n",
       " LogisticRegressionModel: uid = LogisticRegression_6ff8c810fb72, numClasses = 2, numFeatures = 19]"
      ]
     },
     "execution_count": 35,
     "metadata": {},
     "output_type": "execute_result"
    }
   ],
   "source": [
    "model.stages"
   ]
  },
  {
   "cell_type": "code",
   "execution_count": 36,
   "metadata": {},
   "outputs": [
    {
     "data": {
      "text/plain": [
       "[SQLTransformer_61223a998f0c,\n",
       " Tokenizer_b05f6f890af3,\n",
       " HashingTF_40b6726a435c,\n",
       " RFormula_7f1108f03d1d,\n",
       " LogisticRegressionModel: uid = LogisticRegression_6ff8c810fb72, numClasses = 2, numFeatures = 19]"
      ]
     },
     "execution_count": 36,
     "metadata": {},
     "output_type": "execute_result"
    }
   ],
   "source": [
    "pu.flatenStages(model.stages) #note difference, the 2nd stage PipelineModel is flatten into two stages "
   ]
  },
  {
   "cell_type": "code",
   "execution_count": 37,
   "metadata": {},
   "outputs": [
    {
     "data": {
      "text/plain": [
       "pyspark.ml.classification.LogisticRegressionModel"
      ]
     },
     "execution_count": 37,
     "metadata": {},
     "output_type": "execute_result"
    }
   ],
   "source": [
    "type(lrm)"
   ]
  },
  {
   "cell_type": "markdown",
   "metadata": {},
   "source": [
    "# LogisticRegressionModel utility"
   ]
  },
  {
   "cell_type": "code",
   "execution_count": 38,
   "metadata": {},
   "outputs": [],
   "source": [
    "import spark_ml_utils.LogisticRegressionModel_util as lu"
   ]
  },
  {
   "cell_type": "markdown",
   "metadata": {},
   "source": [
    "### extract_feature_name()\n",
    "LogisticRegressionModel does not store the feature name. extract_feature_name() is called in feature_importance() to extract feature name from dataframe schema. In additon , when stat=True, it also returns mean and standard deviation for each feature."
   ]
  },
  {
   "cell_type": "code",
   "execution_count": 39,
   "metadata": {
    "scrolled": true
   },
   "outputs": [
    {
     "data": {
      "text/html": [
       "<div>\n",
       "<style scoped>\n",
       "    .dataframe tbody tr th:only-of-type {\n",
       "        vertical-align: middle;\n",
       "    }\n",
       "\n",
       "    .dataframe tbody tr th {\n",
       "        vertical-align: top;\n",
       "    }\n",
       "\n",
       "    .dataframe thead th {\n",
       "        text-align: right;\n",
       "    }\n",
       "</style>\n",
       "<table border=\"1\" class=\"dataframe\">\n",
       "  <thead>\n",
       "    <tr style=\"text-align: right;\">\n",
       "      <th></th>\n",
       "      <th>feature_index</th>\n",
       "      <th>feature_name</th>\n",
       "      <th>N</th>\n",
       "      <th>mean</th>\n",
       "      <th>std</th>\n",
       "    </tr>\n",
       "  </thead>\n",
       "  <tbody>\n",
       "    <tr>\n",
       "      <th>0</th>\n",
       "      <td>0</td>\n",
       "      <td>category_fillNA_y</td>\n",
       "      <td>4</td>\n",
       "      <td>0.50</td>\n",
       "      <td>0.577350</td>\n",
       "    </tr>\n",
       "    <tr>\n",
       "      <th>1</th>\n",
       "      <td>1</td>\n",
       "      <td>category_fillNA_n</td>\n",
       "      <td>4</td>\n",
       "      <td>0.25</td>\n",
       "      <td>0.500000</td>\n",
       "    </tr>\n",
       "    <tr>\n",
       "      <th>2</th>\n",
       "      <td>2</td>\n",
       "      <td>category_fillNA_unknown</td>\n",
       "      <td>4</td>\n",
       "      <td>0.25</td>\n",
       "      <td>0.500000</td>\n",
       "    </tr>\n",
       "    <tr>\n",
       "      <th>3</th>\n",
       "      <td>3</td>\n",
       "      <td>text_vector_0</td>\n",
       "      <td>4</td>\n",
       "      <td>0.00</td>\n",
       "      <td>0.000000</td>\n",
       "    </tr>\n",
       "    <tr>\n",
       "      <th>4</th>\n",
       "      <td>4</td>\n",
       "      <td>text_vector_1</td>\n",
       "      <td>4</td>\n",
       "      <td>1.25</td>\n",
       "      <td>0.957427</td>\n",
       "    </tr>\n",
       "    <tr>\n",
       "      <th>5</th>\n",
       "      <td>5</td>\n",
       "      <td>text_vector_2</td>\n",
       "      <td>4</td>\n",
       "      <td>0.50</td>\n",
       "      <td>0.577350</td>\n",
       "    </tr>\n",
       "    <tr>\n",
       "      <th>6</th>\n",
       "      <td>6</td>\n",
       "      <td>text_vector_3</td>\n",
       "      <td>4</td>\n",
       "      <td>0.00</td>\n",
       "      <td>0.000000</td>\n",
       "    </tr>\n",
       "    <tr>\n",
       "      <th>7</th>\n",
       "      <td>7</td>\n",
       "      <td>text_vector_4</td>\n",
       "      <td>4</td>\n",
       "      <td>0.00</td>\n",
       "      <td>0.000000</td>\n",
       "    </tr>\n",
       "    <tr>\n",
       "      <th>8</th>\n",
       "      <td>8</td>\n",
       "      <td>text_vector_5</td>\n",
       "      <td>4</td>\n",
       "      <td>0.00</td>\n",
       "      <td>0.000000</td>\n",
       "    </tr>\n",
       "    <tr>\n",
       "      <th>9</th>\n",
       "      <td>9</td>\n",
       "      <td>text_vector_6</td>\n",
       "      <td>4</td>\n",
       "      <td>0.75</td>\n",
       "      <td>0.957427</td>\n",
       "    </tr>\n",
       "    <tr>\n",
       "      <th>10</th>\n",
       "      <td>10</td>\n",
       "      <td>text_vector_7</td>\n",
       "      <td>4</td>\n",
       "      <td>0.00</td>\n",
       "      <td>0.000000</td>\n",
       "    </tr>\n",
       "    <tr>\n",
       "      <th>11</th>\n",
       "      <td>11</td>\n",
       "      <td>text_vector_8</td>\n",
       "      <td>4</td>\n",
       "      <td>0.25</td>\n",
       "      <td>0.500000</td>\n",
       "    </tr>\n",
       "    <tr>\n",
       "      <th>12</th>\n",
       "      <td>12</td>\n",
       "      <td>text_vector_9</td>\n",
       "      <td>4</td>\n",
       "      <td>0.25</td>\n",
       "      <td>0.500000</td>\n",
       "    </tr>\n",
       "    <tr>\n",
       "      <th>13</th>\n",
       "      <td>13</td>\n",
       "      <td>text_vector_10</td>\n",
       "      <td>4</td>\n",
       "      <td>0.25</td>\n",
       "      <td>0.500000</td>\n",
       "    </tr>\n",
       "    <tr>\n",
       "      <th>14</th>\n",
       "      <td>14</td>\n",
       "      <td>text_vector_11</td>\n",
       "      <td>4</td>\n",
       "      <td>0.00</td>\n",
       "      <td>0.000000</td>\n",
       "    </tr>\n",
       "    <tr>\n",
       "      <th>15</th>\n",
       "      <td>15</td>\n",
       "      <td>text_vector_12</td>\n",
       "      <td>4</td>\n",
       "      <td>0.00</td>\n",
       "      <td>0.000000</td>\n",
       "    </tr>\n",
       "    <tr>\n",
       "      <th>16</th>\n",
       "      <td>16</td>\n",
       "      <td>text_vector_13</td>\n",
       "      <td>4</td>\n",
       "      <td>0.25</td>\n",
       "      <td>0.500000</td>\n",
       "    </tr>\n",
       "    <tr>\n",
       "      <th>17</th>\n",
       "      <td>17</td>\n",
       "      <td>text_vector_14</td>\n",
       "      <td>4</td>\n",
       "      <td>0.00</td>\n",
       "      <td>0.000000</td>\n",
       "    </tr>\n",
       "    <tr>\n",
       "      <th>18</th>\n",
       "      <td>18</td>\n",
       "      <td>text_vector_15</td>\n",
       "      <td>4</td>\n",
       "      <td>0.00</td>\n",
       "      <td>0.000000</td>\n",
       "    </tr>\n",
       "  </tbody>\n",
       "</table>\n",
       "</div>"
      ],
      "text/plain": [
       "    feature_index             feature_name  N  mean       std\n",
       "0               0        category_fillNA_y  4  0.50  0.577350\n",
       "1               1        category_fillNA_n  4  0.25  0.500000\n",
       "2               2  category_fillNA_unknown  4  0.25  0.500000\n",
       "3               3            text_vector_0  4  0.00  0.000000\n",
       "4               4            text_vector_1  4  1.25  0.957427\n",
       "5               5            text_vector_2  4  0.50  0.577350\n",
       "6               6            text_vector_3  4  0.00  0.000000\n",
       "7               7            text_vector_4  4  0.00  0.000000\n",
       "8               8            text_vector_5  4  0.00  0.000000\n",
       "9               9            text_vector_6  4  0.75  0.957427\n",
       "10             10            text_vector_7  4  0.00  0.000000\n",
       "11             11            text_vector_8  4  0.25  0.500000\n",
       "12             12            text_vector_9  4  0.25  0.500000\n",
       "13             13           text_vector_10  4  0.25  0.500000\n",
       "14             14           text_vector_11  4  0.00  0.000000\n",
       "15             15           text_vector_12  4  0.00  0.000000\n",
       "16             16           text_vector_13  4  0.25  0.500000\n",
       "17             17           text_vector_14  4  0.00  0.000000\n",
       "18             18           text_vector_15  4  0.00  0.000000"
      ]
     },
     "execution_count": 39,
     "metadata": {},
     "output_type": "execute_result"
    }
   ],
   "source": [
    "lu.extract_feature_name(training_pred,'features',stat=True)"
   ]
  },
  {
   "cell_type": "code",
   "execution_count": null,
   "metadata": {},
   "outputs": [],
   "source": []
  },
  {
   "cell_type": "markdown",
   "metadata": {},
   "source": [
    "### feature_importance()\n",
    "extract feature coefficient and feature importance. See docstring for feature_importance definition."
   ]
  },
  {
   "cell_type": "code",
   "execution_count": 40,
   "metadata": {
    "scrolled": true
   },
   "outputs": [
    {
     "data": {
      "text/html": [
       "<div>\n",
       "<style scoped>\n",
       "    .dataframe tbody tr th:only-of-type {\n",
       "        vertical-align: middle;\n",
       "    }\n",
       "\n",
       "    .dataframe tbody tr th {\n",
       "        vertical-align: top;\n",
       "    }\n",
       "\n",
       "    .dataframe thead th {\n",
       "        text-align: right;\n",
       "    }\n",
       "</style>\n",
       "<table border=\"1\" class=\"dataframe\">\n",
       "  <thead>\n",
       "    <tr style=\"text-align: right;\">\n",
       "      <th></th>\n",
       "      <th>feature_index</th>\n",
       "      <th>feature_name</th>\n",
       "      <th>coef</th>\n",
       "      <th>mean</th>\n",
       "      <th>std</th>\n",
       "      <th>std_coef</th>\n",
       "      <th>feature_importance</th>\n",
       "    </tr>\n",
       "  </thead>\n",
       "  <tbody>\n",
       "    <tr>\n",
       "      <th>0</th>\n",
       "      <td>5</td>\n",
       "      <td>text_vector_2</td>\n",
       "      <td>3.034490</td>\n",
       "      <td>0.50</td>\n",
       "      <td>0.577350</td>\n",
       "      <td>1.751964</td>\n",
       "      <td>1.751964</td>\n",
       "    </tr>\n",
       "    <tr>\n",
       "      <th>1</th>\n",
       "      <td>13</td>\n",
       "      <td>text_vector_10</td>\n",
       "      <td>2.912984</td>\n",
       "      <td>0.25</td>\n",
       "      <td>0.500000</td>\n",
       "      <td>1.456492</td>\n",
       "      <td>1.456492</td>\n",
       "    </tr>\n",
       "    <tr>\n",
       "      <th>2</th>\n",
       "      <td>0</td>\n",
       "      <td>category_fillNA_y</td>\n",
       "      <td>-2.486956</td>\n",
       "      <td>0.50</td>\n",
       "      <td>0.577350</td>\n",
       "      <td>-1.435845</td>\n",
       "      <td>1.435845</td>\n",
       "    </tr>\n",
       "    <tr>\n",
       "      <th>3</th>\n",
       "      <td>1</td>\n",
       "      <td>category_fillNA_n</td>\n",
       "      <td>-1.446623</td>\n",
       "      <td>0.25</td>\n",
       "      <td>0.500000</td>\n",
       "      <td>-0.723312</td>\n",
       "      <td>0.723312</td>\n",
       "    </tr>\n",
       "    <tr>\n",
       "      <th>4</th>\n",
       "      <td>12</td>\n",
       "      <td>text_vector_9</td>\n",
       "      <td>-1.446623</td>\n",
       "      <td>0.25</td>\n",
       "      <td>0.500000</td>\n",
       "      <td>-0.723312</td>\n",
       "      <td>0.723312</td>\n",
       "    </tr>\n",
       "    <tr>\n",
       "      <th>5</th>\n",
       "      <td>16</td>\n",
       "      <td>text_vector_13</td>\n",
       "      <td>-1.446623</td>\n",
       "      <td>0.25</td>\n",
       "      <td>0.500000</td>\n",
       "      <td>-0.723312</td>\n",
       "      <td>0.723312</td>\n",
       "    </tr>\n",
       "    <tr>\n",
       "      <th>6</th>\n",
       "      <td>2</td>\n",
       "      <td>category_fillNA_unknown</td>\n",
       "      <td>1.133003</td>\n",
       "      <td>0.25</td>\n",
       "      <td>0.500000</td>\n",
       "      <td>0.566501</td>\n",
       "      <td>0.566501</td>\n",
       "    </tr>\n",
       "    <tr>\n",
       "      <th>7</th>\n",
       "      <td>11</td>\n",
       "      <td>text_vector_8</td>\n",
       "      <td>1.133003</td>\n",
       "      <td>0.25</td>\n",
       "      <td>0.500000</td>\n",
       "      <td>0.566501</td>\n",
       "      <td>0.566501</td>\n",
       "    </tr>\n",
       "    <tr>\n",
       "      <th>8</th>\n",
       "      <td>4</td>\n",
       "      <td>text_vector_1</td>\n",
       "      <td>0.508104</td>\n",
       "      <td>1.25</td>\n",
       "      <td>0.957427</td>\n",
       "      <td>0.486473</td>\n",
       "      <td>0.486473</td>\n",
       "    </tr>\n",
       "    <tr>\n",
       "      <th>9</th>\n",
       "      <td>9</td>\n",
       "      <td>text_vector_6</td>\n",
       "      <td>-0.109898</td>\n",
       "      <td>0.75</td>\n",
       "      <td>0.957427</td>\n",
       "      <td>-0.105219</td>\n",
       "      <td>0.105219</td>\n",
       "    </tr>\n",
       "  </tbody>\n",
       "</table>\n",
       "</div>"
      ],
      "text/plain": [
       "   feature_index             feature_name      coef  mean       std  std_coef  \\\n",
       "0              5            text_vector_2  3.034490  0.50  0.577350  1.751964   \n",
       "1             13           text_vector_10  2.912984  0.25  0.500000  1.456492   \n",
       "2              0        category_fillNA_y -2.486956  0.50  0.577350 -1.435845   \n",
       "3              1        category_fillNA_n -1.446623  0.25  0.500000 -0.723312   \n",
       "4             12            text_vector_9 -1.446623  0.25  0.500000 -0.723312   \n",
       "5             16           text_vector_13 -1.446623  0.25  0.500000 -0.723312   \n",
       "6              2  category_fillNA_unknown  1.133003  0.25  0.500000  0.566501   \n",
       "7             11            text_vector_8  1.133003  0.25  0.500000  0.566501   \n",
       "8              4            text_vector_1  0.508104  1.25  0.957427  0.486473   \n",
       "9              9            text_vector_6 -0.109898  0.75  0.957427 -0.105219   \n",
       "\n",
       "   feature_importance  \n",
       "0            1.751964  \n",
       "1            1.456492  \n",
       "2            1.435845  \n",
       "3            0.723312  \n",
       "4            0.723312  \n",
       "5            0.723312  \n",
       "6            0.566501  \n",
       "7            0.566501  \n",
       "8            0.486473  \n",
       "9            0.105219  "
      ]
     },
     "execution_count": 40,
     "metadata": {},
     "output_type": "execute_result"
    }
   ],
   "source": [
    "lu.feature_importance(lrm_model=lrm\n",
    "                      , trainDF=training_pred, trainFeatures='features'\n",
    "                      , nonzero_only=True )"
   ]
  }
 ],
 "metadata": {
  "kernelspec": {
   "display_name": "PySpark",
   "language": "python",
   "name": "pyspark"
  },
  "language_info": {
   "codemirror_mode": {
    "name": "ipython",
    "version": 3
   },
   "file_extension": ".py",
   "mimetype": "text/x-python",
   "name": "python",
   "nbconvert_exporter": "python",
   "pygments_lexer": "ipython3",
   "version": "3.7.6"
  }
 },
 "nbformat": 4,
 "nbformat_minor": 4
}
